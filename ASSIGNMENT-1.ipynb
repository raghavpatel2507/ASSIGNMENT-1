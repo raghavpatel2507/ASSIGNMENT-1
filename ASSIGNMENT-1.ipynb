{
 "cells": [
  {
   "cell_type": "code",
   "execution_count": null,
   "id": "1f7eee61-207a-4328-a775-813fca1af1a8",
   "metadata": {},
   "outputs": [],
   "source": [
    "#Q-1:\n",
    "    you can use while loops to run the same task multiple times\n",
    "    and for loops to loop once over list data.\n",
    "    example1:\n",
    "        fruits = [\"apple\", \"banana\", \"cherry\"]\n",
    "             for x in fruits:\n",
    "                 print(x)\n",
    "                    \n",
    "    example2:\n",
    "    i = 1\n",
    "while i < 6:\n",
    "  print(i)\n",
    "  i += 1           \n"
   ]
  },
  {
   "cell_type": "code",
   "execution_count": 1,
   "id": "ea6038d5-0126-47da-bb44-bac07ea268c1",
   "metadata": {},
   "outputs": [
    {
     "name": "stdout",
     "output_type": "stream",
     "text": [
      "55\n",
      "3628800\n",
      "55\n",
      "3628800\n"
     ]
    }
   ],
   "source": [
    "# Q-2:sum of 10 numbers using for loop\n",
    "result=0\n",
    "n=[1,2,3,4,5,6,7,8,9,10]\n",
    "for i in n:\n",
    "    result=result+i\n",
    "    \n",
    "print(result)\n",
    "\n",
    "# product using for loop\n",
    "result1=1\n",
    "for i in n:\n",
    "    result1=result1*i\n",
    "print(result1)\n",
    "\n",
    "#sum of 10 numbers using while loop\n",
    "while i<len(n):\n",
    "    result=result+i\n",
    "print(result)    \n",
    "\n",
    "# product using while loop\n",
    "while i<len(n):\n",
    "    result1=result1*i\n",
    "print(result1)    "
   ]
  },
  {
   "cell_type": "code",
   "execution_count": 2,
   "id": "2693c479-d1b4-410d-9249-1cde1b5cade2",
   "metadata": {},
   "outputs": [],
   "source": [
    "#Q-4:\n",
    "lst=list(range(100))"
   ]
  },
  {
   "cell_type": "code",
   "execution_count": 3,
   "id": "e2d549f1-b5b6-4cab-965f-478df1760a21",
   "metadata": {},
   "outputs": [
    {
     "data": {
      "text/plain": [
       "[0,\n",
       " 1,\n",
       " 8,\n",
       " 27,\n",
       " 64,\n",
       " 125,\n",
       " 216,\n",
       " 343,\n",
       " 512,\n",
       " 729,\n",
       " 1000,\n",
       " 1331,\n",
       " 1728,\n",
       " 2197,\n",
       " 2744,\n",
       " 3375,\n",
       " 4096,\n",
       " 4913,\n",
       " 5832,\n",
       " 6859,\n",
       " 8000,\n",
       " 9261,\n",
       " 10648,\n",
       " 12167,\n",
       " 13824,\n",
       " 15625,\n",
       " 17576,\n",
       " 19683,\n",
       " 21952,\n",
       " 24389,\n",
       " 27000,\n",
       " 29791,\n",
       " 32768,\n",
       " 35937,\n",
       " 39304,\n",
       " 42875,\n",
       " 46656,\n",
       " 50653,\n",
       " 54872,\n",
       " 59319,\n",
       " 64000,\n",
       " 68921,\n",
       " 74088,\n",
       " 79507,\n",
       " 85184,\n",
       " 91125,\n",
       " 97336,\n",
       " 103823,\n",
       " 110592,\n",
       " 117649,\n",
       " 125000,\n",
       " 132651,\n",
       " 140608,\n",
       " 148877,\n",
       " 157464,\n",
       " 166375,\n",
       " 175616,\n",
       " 185193,\n",
       " 195112,\n",
       " 205379,\n",
       " 216000,\n",
       " 226981,\n",
       " 238328,\n",
       " 250047,\n",
       " 262144,\n",
       " 274625,\n",
       " 287496,\n",
       " 300763,\n",
       " 314432,\n",
       " 328509,\n",
       " 343000,\n",
       " 357911,\n",
       " 373248,\n",
       " 389017,\n",
       " 405224,\n",
       " 421875,\n",
       " 438976,\n",
       " 456533,\n",
       " 474552,\n",
       " 493039,\n",
       " 512000,\n",
       " 531441,\n",
       " 551368,\n",
       " 571787,\n",
       " 592704,\n",
       " 614125,\n",
       " 636056,\n",
       " 658503,\n",
       " 681472,\n",
       " 704969,\n",
       " 729000,\n",
       " 753571,\n",
       " 778688,\n",
       " 804357,\n",
       " 830584,\n",
       " 857375,\n",
       " 884736,\n",
       " 912673,\n",
       " 941192,\n",
       " 970299]"
      ]
     },
     "execution_count": 3,
     "metadata": {},
     "output_type": "execute_result"
    }
   ],
   "source": [
    "lst1=[i**3 for i in lst]\n",
    "lst1"
   ]
  },
  {
   "cell_type": "code",
   "execution_count": 8,
   "id": "6d502da3-d053-46c7-bacb-2445be207d1f",
   "metadata": {},
   "outputs": [],
   "source": [
    "l1=[]\n",
    "for i in lst1:\n",
    "    if i%4==0 or i%5==0:\n",
    "        l1.append(i)"
   ]
  },
  {
   "cell_type": "code",
   "execution_count": 6,
   "id": "1186051b-2b9e-475a-bdd1-a1889fa8ea46",
   "metadata": {},
   "outputs": [
    {
     "name": "stdout",
     "output_type": "stream",
     "text": [
      "No  of vowels : 12\n"
     ]
    }
   ],
   "source": [
    "#Q-5:\n",
    "str = \"I want to become a data scientist\"\n",
    "vowels = \"aeiouAEIOU\"\n",
    "count = len([char for char in str if char in vowels])\n",
    "print(\"No  of vowels :\", count)"
   ]
  },
  {
   "cell_type": "code",
   "execution_count": null,
   "id": "b058a045-ce31-43e1-9cfc-6b7eebf49765",
   "metadata": {},
   "outputs": [],
   "source": []
  }
 ],
 "metadata": {
  "kernelspec": {
   "display_name": "Python 3 (ipykernel)",
   "language": "python",
   "name": "python3"
  },
  "language_info": {
   "codemirror_mode": {
    "name": "ipython",
    "version": 3
   },
   "file_extension": ".py",
   "mimetype": "text/x-python",
   "name": "python",
   "nbconvert_exporter": "python",
   "pygments_lexer": "ipython3",
   "version": "3.10.8"
  }
 },
 "nbformat": 4,
 "nbformat_minor": 5
}
